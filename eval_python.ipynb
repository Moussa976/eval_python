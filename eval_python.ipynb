{
  "nbformat": 4,
  "nbformat_minor": 0,
  "metadata": {
    "colab": {
      "name": "eval_python.ipynb",
      "provenance": []
    },
    "kernelspec": {
      "name": "python3",
      "display_name": "Python 3"
    }
  },
  "cells": [
    {
      "cell_type": "markdown",
      "metadata": {
        "id": "2DI_8irdje8E"
      },
      "source": [
        "\n",
        "\n",
        "> Moussa INSSA - M1 Tech Lead\n",
        "\n",
        "\n",
        "\n",
        "\n",
        "# EVALUATION PYTHON"
      ]
    },
    {
      "cell_type": "code",
      "metadata": {
        "id": "SOJQ1WFLjePe"
      },
      "source": [
        ""
      ],
      "execution_count": null,
      "outputs": []
    }
  ]
}