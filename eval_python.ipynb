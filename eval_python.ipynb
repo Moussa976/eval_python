{
  "nbformat": 4,
  "nbformat_minor": 0,
  "metadata": {
    "colab": {
      "name": "eval_python.ipynb",
      "provenance": [],
      "collapsed_sections": [],
      "authorship_tag": "ABX9TyOwKaHJKOiRgrNSeEogOqVV",
      "include_colab_link": true
    },
    "kernelspec": {
      "name": "python3",
      "display_name": "Python 3"
    }
  },
  "cells": [
    {
      "cell_type": "markdown",
      "metadata": {
        "id": "view-in-github",
        "colab_type": "text"
      },
      "source": [
        "<a href=\"https://colab.research.google.com/github/Moussa976/eval_python/blob/master/eval_python.ipynb\" target=\"_parent\"><img src=\"https://colab.research.google.com/assets/colab-badge.svg\" alt=\"Open In Colab\"/></a>"
      ]
    },
    {
      "cell_type": "markdown",
      "metadata": {
        "id": "2DI_8irdje8E"
      },
      "source": [
        "\n",
        "\n",
        "> Moussa INSSA - M1 Tech Lead\n",
        "\n",
        "\n",
        "\n",
        "\n",
        "# EVALUATION PYTHON"
      ]
    },
    {
      "cell_type": "code",
      "metadata": {
        "id": "SOJQ1WFLjePe"
      },
      "source": [
        ""
      ],
      "execution_count": null,
      "outputs": []
    }
  ]
}