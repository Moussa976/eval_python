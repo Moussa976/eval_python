{
  "nbformat": 4,
  "nbformat_minor": 0,
  "metadata": {
    "colab": {
      "name": "M1_TL_Moussa_INSSA_netflix_data.ipynb",
      "provenance": [],
      "collapsed_sections": [
        "6s3Eg-6f7f0d",
        "BknSSNugT3Qd",
        "HwlHgM45LO4L",
        "9jsTRCdVQixJ",
        "F_KQxqN8fsiD"
      ],
      "authorship_tag": "ABX9TyP4Sl5u1riezZsJBALwaz8h",
      "include_colab_link": true
    },
    "kernelspec": {
      "name": "python3",
      "display_name": "Python 3"
    }
  },
  "cells": [
    {
      "cell_type": "markdown",
      "metadata": {
        "id": "view-in-github",
        "colab_type": "text"
      },
      "source": [
        "<a href=\"https://colab.research.google.com/github/Moussa976/eval_python/blob/master/M1_TL_Moussa_INSSA_netflix_data.ipynb\" target=\"_parent\"><img src=\"https://colab.research.google.com/assets/colab-badge.svg\" alt=\"Open In Colab\"/></a>"
      ]
    },
    {
      "cell_type": "markdown",
      "metadata": {
        "id": "k6SG6VYjTKVt"
      },
      "source": [
        "![Netflix_logo.svg.png](data:image/png;base64,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)\n",
        "#Netflix Movies and TV Shows"
      ]
    },
    {
      "cell_type": "markdown",
      "metadata": {
        "id": "6s3Eg-6f7f0d"
      },
      "source": [
        "## L'importation des librairies et du fichier netflix_titles.csv"
      ]
    },
    {
      "cell_type": "code",
      "metadata": {
        "id": "AtWHy-8VJ-i_"
      },
      "source": [
        "#Importation des librairies\n",
        "import pandas as pd \n",
        "import seaborn as sns\n",
        "import matplotlib.pyplot as plt \n",
        "%matplotlib inline\n",
        "import numpy as np \n"
      ],
      "execution_count": 73,
      "outputs": []
    },
    {
      "cell_type": "code",
      "metadata": {
        "id": "VUxSPX8FLLZI",
        "outputId": "9a5ebeb9-31cd-4af4-9406-3610386b78f1",
        "colab": {
          "base_uri": "https://localhost:8080/",
          "height": 700
        }
      },
      "source": [
        "#Lien de la data \n",
        "#https://www.kaggle.com/shivamb/netflix-shows\n",
        "from google.colab import drive\n",
        "drive.mount('/content/gdrive')\n",
        "root_path = 'gdrive/My Drive/exos_graphs'\n",
        "# import du fichier netflix_titles.csv, on précise ici les colonnes utilisés\n",
        "data = pd.read_csv(root_path+\"/netflix_titles.csv\", usecols = ['show_id','type','title','director','cast','country','date_added','release_year','rating','duration','listed_in','description'])\n",
        "print(\"dataset loaded\")\n",
        "data.head()"
      ],
      "execution_count": 74,
      "outputs": [
        {
          "output_type": "stream",
          "text": [
            "Drive already mounted at /content/gdrive; to attempt to forcibly remount, call drive.mount(\"/content/gdrive\", force_remount=True).\n",
            "dataset loaded\n"
          ],
          "name": "stdout"
        },
        {
          "output_type": "execute_result",
          "data": {
            "text/html": [
              "<div>\n",
              "<style scoped>\n",
              "    .dataframe tbody tr th:only-of-type {\n",
              "        vertical-align: middle;\n",
              "    }\n",
              "\n",
              "    .dataframe tbody tr th {\n",
              "        vertical-align: top;\n",
              "    }\n",
              "\n",
              "    .dataframe thead th {\n",
              "        text-align: right;\n",
              "    }\n",
              "</style>\n",
              "<table border=\"1\" class=\"dataframe\">\n",
              "  <thead>\n",
              "    <tr style=\"text-align: right;\">\n",
              "      <th></th>\n",
              "      <th>show_id</th>\n",
              "      <th>type</th>\n",
              "      <th>title</th>\n",
              "      <th>director</th>\n",
              "      <th>cast</th>\n",
              "      <th>country</th>\n",
              "      <th>date_added</th>\n",
              "      <th>release_year</th>\n",
              "      <th>rating</th>\n",
              "      <th>duration</th>\n",
              "      <th>listed_in</th>\n",
              "      <th>description</th>\n",
              "    </tr>\n",
              "  </thead>\n",
              "  <tbody>\n",
              "    <tr>\n",
              "      <th>0</th>\n",
              "      <td>81145628</td>\n",
              "      <td>Movie</td>\n",
              "      <td>Norm of the North: King Sized Adventure</td>\n",
              "      <td>Richard Finn, Tim Maltby</td>\n",
              "      <td>Alan Marriott, Andrew Toth, Brian Dobson, Cole...</td>\n",
              "      <td>United States, India, South Korea, China</td>\n",
              "      <td>September 9, 2019</td>\n",
              "      <td>2019</td>\n",
              "      <td>TV-PG</td>\n",
              "      <td>90 min</td>\n",
              "      <td>Children &amp; Family Movies, Comedies</td>\n",
              "      <td>Before planning an awesome wedding for his gra...</td>\n",
              "    </tr>\n",
              "    <tr>\n",
              "      <th>1</th>\n",
              "      <td>80117401</td>\n",
              "      <td>Movie</td>\n",
              "      <td>Jandino: Whatever it Takes</td>\n",
              "      <td>NaN</td>\n",
              "      <td>Jandino Asporaat</td>\n",
              "      <td>United Kingdom</td>\n",
              "      <td>September 9, 2016</td>\n",
              "      <td>2016</td>\n",
              "      <td>TV-MA</td>\n",
              "      <td>94 min</td>\n",
              "      <td>Stand-Up Comedy</td>\n",
              "      <td>Jandino Asporaat riffs on the challenges of ra...</td>\n",
              "    </tr>\n",
              "    <tr>\n",
              "      <th>2</th>\n",
              "      <td>70234439</td>\n",
              "      <td>TV Show</td>\n",
              "      <td>Transformers Prime</td>\n",
              "      <td>NaN</td>\n",
              "      <td>Peter Cullen, Sumalee Montano, Frank Welker, J...</td>\n",
              "      <td>United States</td>\n",
              "      <td>September 8, 2018</td>\n",
              "      <td>2013</td>\n",
              "      <td>TV-Y7-FV</td>\n",
              "      <td>1 Season</td>\n",
              "      <td>Kids' TV</td>\n",
              "      <td>With the help of three human allies, the Autob...</td>\n",
              "    </tr>\n",
              "    <tr>\n",
              "      <th>3</th>\n",
              "      <td>80058654</td>\n",
              "      <td>TV Show</td>\n",
              "      <td>Transformers: Robots in Disguise</td>\n",
              "      <td>NaN</td>\n",
              "      <td>Will Friedle, Darren Criss, Constance Zimmer, ...</td>\n",
              "      <td>United States</td>\n",
              "      <td>September 8, 2018</td>\n",
              "      <td>2016</td>\n",
              "      <td>TV-Y7</td>\n",
              "      <td>1 Season</td>\n",
              "      <td>Kids' TV</td>\n",
              "      <td>When a prison ship crash unleashes hundreds of...</td>\n",
              "    </tr>\n",
              "    <tr>\n",
              "      <th>4</th>\n",
              "      <td>80125979</td>\n",
              "      <td>Movie</td>\n",
              "      <td>#realityhigh</td>\n",
              "      <td>Fernando Lebrija</td>\n",
              "      <td>Nesta Cooper, Kate Walsh, John Michael Higgins...</td>\n",
              "      <td>United States</td>\n",
              "      <td>September 8, 2017</td>\n",
              "      <td>2017</td>\n",
              "      <td>TV-14</td>\n",
              "      <td>99 min</td>\n",
              "      <td>Comedies</td>\n",
              "      <td>When nerdy high schooler Dani finally attracts...</td>\n",
              "    </tr>\n",
              "  </tbody>\n",
              "</table>\n",
              "</div>"
            ],
            "text/plain": [
              "    show_id  ...                                        description\n",
              "0  81145628  ...  Before planning an awesome wedding for his gra...\n",
              "1  80117401  ...  Jandino Asporaat riffs on the challenges of ra...\n",
              "2  70234439  ...  With the help of three human allies, the Autob...\n",
              "3  80058654  ...  When a prison ship crash unleashes hundreds of...\n",
              "4  80125979  ...  When nerdy high schooler Dani finally attracts...\n",
              "\n",
              "[5 rows x 12 columns]"
            ]
          },
          "metadata": {
            "tags": []
          },
          "execution_count": 74
        }
      ]
    },
    {
      "cell_type": "markdown",
      "metadata": {
        "id": "BknSSNugT3Qd"
      },
      "source": [
        "##Informations de notre dataset"
      ]
    },
    {
      "cell_type": "code",
      "metadata": {
        "id": "LMheqjhCOZ2j",
        "outputId": "7410d8e2-976d-47a1-87d5-034d3395599b",
        "colab": {
          "base_uri": "https://localhost:8080/"
        }
      },
      "source": [
        "# informations sur le contenu de notre dataset\n",
        "data.info()"
      ],
      "execution_count": 75,
      "outputs": [
        {
          "output_type": "stream",
          "text": [
            "<class 'pandas.core.frame.DataFrame'>\n",
            "RangeIndex: 6234 entries, 0 to 6233\n",
            "Data columns (total 12 columns):\n",
            " #   Column        Non-Null Count  Dtype \n",
            "---  ------        --------------  ----- \n",
            " 0   show_id       6234 non-null   int64 \n",
            " 1   type          6234 non-null   object\n",
            " 2   title         6234 non-null   object\n",
            " 3   director      4265 non-null   object\n",
            " 4   cast          5664 non-null   object\n",
            " 5   country       5758 non-null   object\n",
            " 6   date_added    6223 non-null   object\n",
            " 7   release_year  6234 non-null   int64 \n",
            " 8   rating        6224 non-null   object\n",
            " 9   duration      6234 non-null   object\n",
            " 10  listed_in     6234 non-null   object\n",
            " 11  description   6234 non-null   object\n",
            "dtypes: int64(2), object(10)\n",
            "memory usage: 584.6+ KB\n"
          ],
          "name": "stdout"
        }
      ]
    },
    {
      "cell_type": "markdown",
      "metadata": {
        "id": "QeQ0srX4UTJa"
      },
      "source": [
        "Nous pouvons observer qu'on a 6234 entrées sur le contenu de notre dataset et assez peu de colonnes.\n",
        "\n",
        "\n",
        "Les colonnes correspondent à:\n",
        "\n",
        " - **show_id**: correspond à l'identifiant du nouvelle entrée\n",
        " - **type** :  correspond au type de programme entré (Movie ou TV Show)\n",
        " - **title** : corrspond au titre \n",
        " - **director** : correspond au nom de directeur \n",
        " - **cast** : correspond au noms des acteurs\n",
        " - **country** : correspond au nom du pays\n",
        " - **date_added** : correspond à la date ajout\n",
        " - **release_year** : correspond à l'année sortie\n",
        " - **rating** : correspond à l'audimat \n",
        " - **duration** : correspond à la durée du film ou de la saison\n",
        " - **listed_in** : correspond à la catégorie d'âge \n",
        " - **description** : correspond à la description du film ou série"
      ]
    },
    {
      "cell_type": "markdown",
      "metadata": {
        "id": "HwlHgM45LO4L"
      },
      "source": [
        "## Analyse des données Netflix"
      ]
    },
    {
      "cell_type": "code",
      "metadata": {
        "id": "WqZ2akfyLdyM",
        "outputId": "13007e2d-7213-44c6-99d7-f488a403527e",
        "colab": {
          "base_uri": "https://localhost:8080/",
          "height": 326
        }
      },
      "source": [
        "# Conversion de la date \n",
        "data['date_added'] = pd.to_datetime(data['date_added'])\n",
        "# Affichage des films et séries en fonction de la date\n",
        "plt.figure(figsize=(30,6))\n",
        "sns.displot(data.date_added, bins=20, kde=False, aspect= 3)"
      ],
      "execution_count": 94,
      "outputs": [
        {
          "output_type": "execute_result",
          "data": {
            "text/plain": [
              "<seaborn.axisgrid.FacetGrid at 0x7f443a650b70>"
            ]
          },
          "metadata": {
            "tags": []
          },
          "execution_count": 94
        },
        {
          "output_type": "display_data",
          "data": {
            "text/plain": [
              "<Figure size 2160x432 with 0 Axes>"
            ]
          },
          "metadata": {
            "tags": []
          }
        },
        {
          "output_type": "display_data",
          "data": {
            "image/png": "[encoded data removed]",
            "text/plain": [
              "<Figure size 1080x360 with 1 Axes>"
            ]
          },
          "metadata": {
            "tags": [],
            "needs_background": "light"
          }
        }
      ]
    },
    {
      "cell_type": "code",
      "metadata": {
        "id": "TTRpGaGtc4FT",
        "outputId": "d73c3c57-0187-4aa7-fe3a-073db58895fd",
        "colab": {
          "base_uri": "https://localhost:8080/"
        }
      },
      "source": [
        "# Les valeurs vides \n",
        "data.isna().sum()"
      ],
      "execution_count": 97,
      "outputs": [
        {
          "output_type": "execute_result",
          "data": {
            "text/plain": [
              "show_id            0\n",
              "type               0\n",
              "title              0\n",
              "director        1969\n",
              "cast             570\n",
              "country          476\n",
              "date_added        11\n",
              "release_year       0\n",
              "rating            10\n",
              "duration           0\n",
              "listed_in          0\n",
              "description        0\n",
              "dtype: int64"
            ]
          },
          "metadata": {
            "tags": []
          },
          "execution_count": 97
        }
      ]
    },
    {
      "cell_type": "code",
      "metadata": {
        "id": "_OqVpeQepXkD",
        "outputId": "82e0543c-91d8-47a9-d1fb-e0c9b448be27",
        "colab": {
          "base_uri": "https://localhost:8080/"
        }
      },
      "source": [
        "\"\"\" Fonction qui permet de calculer le % de données manquantes\"\"\"\n",
        "def donnees_manquantes(dataset, liste_colonnes):\n",
        "    for colonne in liste_colonnes:\n",
        "        pourcentage = round((dataset[colonne].isnull().sum()/dataset.shape[0]) * 100, 2)\n",
        "        print (\"Données manquantes pour {}: {}%\".format(colonne,pourcentage))\n",
        "    \n",
        "donnees_manquantes(data, ['director', 'cast', 'country','date_added' ])"
      ],
      "execution_count": 96,
      "outputs": [
        {
          "output_type": "stream",
          "text": [
            "Données manquantes pour director: 31.58%\n",
            "Données manquantes pour cast: 9.14%\n",
            "Données manquantes pour country: 7.64%\n",
            "Données manquantes pour date_added: 0.18%\n"
          ],
          "name": "stdout"
        }
      ]
    },
    {
      "cell_type": "code",
      "metadata": {
        "id": "cpKGyH1vPNfx",
        "outputId": "fa66fb8d-8f62-42cc-f734-b0900307bb66",
        "colab": {
          "base_uri": "https://localhost:8080/"
        }
      },
      "source": [
        "data.show_id.count()"
      ],
      "execution_count": 99,
      "outputs": [
        {
          "output_type": "execute_result",
          "data": {
            "text/plain": [
              "6234"
            ]
          },
          "metadata": {
            "tags": []
          },
          "execution_count": 99
        }
      ]
    },
    {
      "cell_type": "markdown",
      "metadata": {
        "id": "9jsTRCdVQixJ"
      },
      "source": [
        "## Analyse des données sur les Movies/TV Shows\n",
        "\n",
        "Dans cette partie, nous allons nous focaliser sur les différents types de programmes Netflix tels que **TV Shows (Séries TV)** et **Movies (Films)**. "
      ]
    },
    {
      "cell_type": "code",
      "metadata": {
        "id": "vl4FSf6cObM_",
        "outputId": "3a2798e0-c72a-40f4-8bcc-941a6979ec70",
        "colab": {
          "base_uri": "https://localhost:8080/"
        }
      },
      "source": [
        "# on liste les valeurs possibles des types de programme\n",
        "data['type'].unique()"
      ],
      "execution_count": 76,
      "outputs": [
        {
          "output_type": "execute_result",
          "data": {
            "text/plain": [
              "array(['Movie', 'TV Show'], dtype=object)"
            ]
          },
          "metadata": {
            "tags": []
          },
          "execution_count": 76
        }
      ]
    },
    {
      "cell_type": "code",
      "metadata": {
        "id": "c8u-URNfR6Bx"
      },
      "source": [
        "# On crée le dataset Movie\n",
        "movie = data[data['type'] == 'Movie'].copy()\n",
        "# On crée de dataset TV Show\n",
        "tv_show = data[data['type'] == 'TV Show'].copy()"
      ],
      "execution_count": 77,
      "outputs": []
    },
    {
      "cell_type": "code",
      "metadata": {
        "id": "7a4BVSfaSFpC",
        "outputId": "b845fca9-962a-4f45-a67b-557f390af214",
        "colab": {
          "base_uri": "https://localhost:8080/"
        }
      },
      "source": [
        "# informations sur le contenu de notre dataset Movie et TV Show\n",
        "print(movie.info(), tv_show.info())\n"
      ],
      "execution_count": 78,
      "outputs": [
        {
          "output_type": "stream",
          "text": [
            "<class 'pandas.core.frame.DataFrame'>\n",
            "Int64Index: 4265 entries, 0 to 6231\n",
            "Data columns (total 12 columns):\n",
            " #   Column        Non-Null Count  Dtype \n",
            "---  ------        --------------  ----- \n",
            " 0   show_id       4265 non-null   int64 \n",
            " 1   type          4265 non-null   object\n",
            " 2   title         4265 non-null   object\n",
            " 3   director      4137 non-null   object\n",
            " 4   cast          3905 non-null   object\n",
            " 5   country       4070 non-null   object\n",
            " 6   date_added    4264 non-null   object\n",
            " 7   release_year  4265 non-null   int64 \n",
            " 8   rating        4257 non-null   object\n",
            " 9   duration      4265 non-null   object\n",
            " 10  listed_in     4265 non-null   object\n",
            " 11  description   4265 non-null   object\n",
            "dtypes: int64(2), object(10)\n",
            "memory usage: 433.2+ KB\n",
            "<class 'pandas.core.frame.DataFrame'>\n",
            "Int64Index: 1969 entries, 2 to 6233\n",
            "Data columns (total 12 columns):\n",
            " #   Column        Non-Null Count  Dtype \n",
            "---  ------        --------------  ----- \n",
            " 0   show_id       1969 non-null   int64 \n",
            " 1   type          1969 non-null   object\n",
            " 2   title         1969 non-null   object\n",
            " 3   director      128 non-null    object\n",
            " 4   cast          1759 non-null   object\n",
            " 5   country       1688 non-null   object\n",
            " 6   date_added    1959 non-null   object\n",
            " 7   release_year  1969 non-null   int64 \n",
            " 8   rating        1967 non-null   object\n",
            " 9   duration      1969 non-null   object\n",
            " 10  listed_in     1969 non-null   object\n",
            " 11  description   1969 non-null   object\n",
            "dtypes: int64(2), object(10)\n",
            "memory usage: 200.0+ KB\n",
            "None None\n"
          ],
          "name": "stdout"
        }
      ]
    },
    {
      "cell_type": "code",
      "metadata": {
        "id": "rKLXd1JPT0Xw",
        "outputId": "a36b043e-7be7-42cb-8e2b-3950d9e5e0a2",
        "colab": {
          "base_uri": "https://localhost:8080/"
        }
      },
      "source": [
        "print(len(movie.show_id),\" movies et \",len(tv_show.show_id),\" tv shows\") # Se rassurer qu'il y a 4265 Movie et 1969 TV Show"
      ],
      "execution_count": 79,
      "outputs": [
        {
          "output_type": "stream",
          "text": [
            "4265  movies et  1969  tv shows\n"
          ],
          "name": "stdout"
        }
      ]
    },
    {
      "cell_type": "code",
      "metadata": {
        "id": "m_-Gt9O0TKKo",
        "outputId": "4ff9b50b-4c10-451c-bd27-accff4d83e2d",
        "colab": {
          "base_uri": "https://localhost:8080/",
          "height": 649
        }
      },
      "source": [
        "# Affichages des Movies\n",
        "movie.head()"
      ],
      "execution_count": 80,
      "outputs": [
        {
          "output_type": "execute_result",
          "data": {
            "text/html": [
              "<div>\n",
              "<style scoped>\n",
              "    .dataframe tbody tr th:only-of-type {\n",
              "        vertical-align: middle;\n",
              "    }\n",
              "\n",
              "    .dataframe tbody tr th {\n",
              "        vertical-align: top;\n",
              "    }\n",
              "\n",
              "    .dataframe thead th {\n",
              "        text-align: right;\n",
              "    }\n",
              "</style>\n",
              "<table border=\"1\" class=\"dataframe\">\n",
              "  <thead>\n",
              "    <tr style=\"text-align: right;\">\n",
              "      <th></th>\n",
              "      <th>show_id</th>\n",
              "      <th>type</th>\n",
              "      <th>title</th>\n",
              "      <th>director</th>\n",
              "      <th>cast</th>\n",
              "      <th>country</th>\n",
              "      <th>date_added</th>\n",
              "      <th>release_year</th>\n",
              "      <th>rating</th>\n",
              "      <th>duration</th>\n",
              "      <th>listed_in</th>\n",
              "      <th>description</th>\n",
              "    </tr>\n",
              "  </thead>\n",
              "  <tbody>\n",
              "    <tr>\n",
              "      <th>0</th>\n",
              "      <td>81145628</td>\n",
              "      <td>Movie</td>\n",
              "      <td>Norm of the North: King Sized Adventure</td>\n",
              "      <td>Richard Finn, Tim Maltby</td>\n",
              "      <td>Alan Marriott, Andrew Toth, Brian Dobson, Cole...</td>\n",
              "      <td>United States, India, South Korea, China</td>\n",
              "      <td>September 9, 2019</td>\n",
              "      <td>2019</td>\n",
              "      <td>TV-PG</td>\n",
              "      <td>90 min</td>\n",
              "      <td>Children &amp; Family Movies, Comedies</td>\n",
              "      <td>Before planning an awesome wedding for his gra...</td>\n",
              "    </tr>\n",
              "    <tr>\n",
              "      <th>1</th>\n",
              "      <td>80117401</td>\n",
              "      <td>Movie</td>\n",
              "      <td>Jandino: Whatever it Takes</td>\n",
              "      <td>NaN</td>\n",
              "      <td>Jandino Asporaat</td>\n",
              "      <td>United Kingdom</td>\n",
              "      <td>September 9, 2016</td>\n",
              "      <td>2016</td>\n",
              "      <td>TV-MA</td>\n",
              "      <td>94 min</td>\n",
              "      <td>Stand-Up Comedy</td>\n",
              "      <td>Jandino Asporaat riffs on the challenges of ra...</td>\n",
              "    </tr>\n",
              "    <tr>\n",
              "      <th>4</th>\n",
              "      <td>80125979</td>\n",
              "      <td>Movie</td>\n",
              "      <td>#realityhigh</td>\n",
              "      <td>Fernando Lebrija</td>\n",
              "      <td>Nesta Cooper, Kate Walsh, John Michael Higgins...</td>\n",
              "      <td>United States</td>\n",
              "      <td>September 8, 2017</td>\n",
              "      <td>2017</td>\n",
              "      <td>TV-14</td>\n",
              "      <td>99 min</td>\n",
              "      <td>Comedies</td>\n",
              "      <td>When nerdy high schooler Dani finally attracts...</td>\n",
              "    </tr>\n",
              "    <tr>\n",
              "      <th>6</th>\n",
              "      <td>70304989</td>\n",
              "      <td>Movie</td>\n",
              "      <td>Automata</td>\n",
              "      <td>Gabe Ibáñez</td>\n",
              "      <td>Antonio Banderas, Dylan McDermott, Melanie Gri...</td>\n",
              "      <td>Bulgaria, United States, Spain, Canada</td>\n",
              "      <td>September 8, 2017</td>\n",
              "      <td>2014</td>\n",
              "      <td>R</td>\n",
              "      <td>110 min</td>\n",
              "      <td>International Movies, Sci-Fi &amp; Fantasy, Thrillers</td>\n",
              "      <td>In a dystopian future, an insurance adjuster f...</td>\n",
              "    </tr>\n",
              "    <tr>\n",
              "      <th>7</th>\n",
              "      <td>80164077</td>\n",
              "      <td>Movie</td>\n",
              "      <td>Fabrizio Copano: Solo pienso en mi</td>\n",
              "      <td>Rodrigo Toro, Francisco Schultz</td>\n",
              "      <td>Fabrizio Copano</td>\n",
              "      <td>Chile</td>\n",
              "      <td>September 8, 2017</td>\n",
              "      <td>2017</td>\n",
              "      <td>TV-MA</td>\n",
              "      <td>60 min</td>\n",
              "      <td>Stand-Up Comedy</td>\n",
              "      <td>Fabrizio Copano takes audience participation t...</td>\n",
              "    </tr>\n",
              "  </tbody>\n",
              "</table>\n",
              "</div>"
            ],
            "text/plain": [
              "    show_id  ...                                        description\n",
              "0  81145628  ...  Before planning an awesome wedding for his gra...\n",
              "1  80117401  ...  Jandino Asporaat riffs on the challenges of ra...\n",
              "4  80125979  ...  When nerdy high schooler Dani finally attracts...\n",
              "6  70304989  ...  In a dystopian future, an insurance adjuster f...\n",
              "7  80164077  ...  Fabrizio Copano takes audience participation t...\n",
              "\n",
              "[5 rows x 12 columns]"
            ]
          },
          "metadata": {
            "tags": []
          },
          "execution_count": 80
        }
      ]
    },
    {
      "cell_type": "code",
      "metadata": {
        "id": "Kdr6t67eZfYl",
        "outputId": "4c49fc55-fcad-4f41-9490-0039e47c3680",
        "colab": {
          "base_uri": "https://localhost:8080/",
          "height": 598
        }
      },
      "source": [
        "# Affichages des TV Shows\n",
        "tv_show.head()"
      ],
      "execution_count": 81,
      "outputs": [
        {
          "output_type": "execute_result",
          "data": {
            "text/html": [
              "<div>\n",
              "<style scoped>\n",
              "    .dataframe tbody tr th:only-of-type {\n",
              "        vertical-align: middle;\n",
              "    }\n",
              "\n",
              "    .dataframe tbody tr th {\n",
              "        vertical-align: top;\n",
              "    }\n",
              "\n",
              "    .dataframe thead th {\n",
              "        text-align: right;\n",
              "    }\n",
              "</style>\n",
              "<table border=\"1\" class=\"dataframe\">\n",
              "  <thead>\n",
              "    <tr style=\"text-align: right;\">\n",
              "      <th></th>\n",
              "      <th>show_id</th>\n",
              "      <th>type</th>\n",
              "      <th>title</th>\n",
              "      <th>director</th>\n",
              "      <th>cast</th>\n",
              "      <th>country</th>\n",
              "      <th>date_added</th>\n",
              "      <th>release_year</th>\n",
              "      <th>rating</th>\n",
              "      <th>duration</th>\n",
              "      <th>listed_in</th>\n",
              "      <th>description</th>\n",
              "    </tr>\n",
              "  </thead>\n",
              "  <tbody>\n",
              "    <tr>\n",
              "      <th>2</th>\n",
              "      <td>70234439</td>\n",
              "      <td>TV Show</td>\n",
              "      <td>Transformers Prime</td>\n",
              "      <td>NaN</td>\n",
              "      <td>Peter Cullen, Sumalee Montano, Frank Welker, J...</td>\n",
              "      <td>United States</td>\n",
              "      <td>September 8, 2018</td>\n",
              "      <td>2013</td>\n",
              "      <td>TV-Y7-FV</td>\n",
              "      <td>1 Season</td>\n",
              "      <td>Kids' TV</td>\n",
              "      <td>With the help of three human allies, the Autob...</td>\n",
              "    </tr>\n",
              "    <tr>\n",
              "      <th>3</th>\n",
              "      <td>80058654</td>\n",
              "      <td>TV Show</td>\n",
              "      <td>Transformers: Robots in Disguise</td>\n",
              "      <td>NaN</td>\n",
              "      <td>Will Friedle, Darren Criss, Constance Zimmer, ...</td>\n",
              "      <td>United States</td>\n",
              "      <td>September 8, 2018</td>\n",
              "      <td>2016</td>\n",
              "      <td>TV-Y7</td>\n",
              "      <td>1 Season</td>\n",
              "      <td>Kids' TV</td>\n",
              "      <td>When a prison ship crash unleashes hundreds of...</td>\n",
              "    </tr>\n",
              "    <tr>\n",
              "      <th>5</th>\n",
              "      <td>80163890</td>\n",
              "      <td>TV Show</td>\n",
              "      <td>Apaches</td>\n",
              "      <td>NaN</td>\n",
              "      <td>Alberto Ammann, Eloy Azorín, Verónica Echegui,...</td>\n",
              "      <td>Spain</td>\n",
              "      <td>September 8, 2017</td>\n",
              "      <td>2016</td>\n",
              "      <td>TV-MA</td>\n",
              "      <td>1 Season</td>\n",
              "      <td>Crime TV Shows, International TV Shows, Spanis...</td>\n",
              "      <td>A young journalist is forced into a life of cr...</td>\n",
              "    </tr>\n",
              "    <tr>\n",
              "      <th>8</th>\n",
              "      <td>80117902</td>\n",
              "      <td>TV Show</td>\n",
              "      <td>Fire Chasers</td>\n",
              "      <td>NaN</td>\n",
              "      <td>NaN</td>\n",
              "      <td>United States</td>\n",
              "      <td>September 8, 2017</td>\n",
              "      <td>2017</td>\n",
              "      <td>TV-MA</td>\n",
              "      <td>1 Season</td>\n",
              "      <td>Docuseries, Science &amp; Nature TV</td>\n",
              "      <td>As California's 2016 fire season rages, brave ...</td>\n",
              "    </tr>\n",
              "    <tr>\n",
              "      <th>26</th>\n",
              "      <td>80244601</td>\n",
              "      <td>TV Show</td>\n",
              "      <td>Castle of Stars</td>\n",
              "      <td>NaN</td>\n",
              "      <td>Chaiyapol Pupart, Jintanutda Lummakanon, Worra...</td>\n",
              "      <td>NaN</td>\n",
              "      <td>September 7, 2018</td>\n",
              "      <td>2015</td>\n",
              "      <td>TV-14</td>\n",
              "      <td>1 Season</td>\n",
              "      <td>International TV Shows, Romantic TV Shows, TV ...</td>\n",
              "      <td>As four couples with different lifestyles go t...</td>\n",
              "    </tr>\n",
              "  </tbody>\n",
              "</table>\n",
              "</div>"
            ],
            "text/plain": [
              "     show_id  ...                                        description\n",
              "2   70234439  ...  With the help of three human allies, the Autob...\n",
              "3   80058654  ...  When a prison ship crash unleashes hundreds of...\n",
              "5   80163890  ...  A young journalist is forced into a life of cr...\n",
              "8   80117902  ...  As California's 2016 fire season rages, brave ...\n",
              "26  80244601  ...  As four couples with different lifestyles go t...\n",
              "\n",
              "[5 rows x 12 columns]"
            ]
          },
          "metadata": {
            "tags": []
          },
          "execution_count": 81
        }
      ]
    },
    {
      "cell_type": "code",
      "metadata": {
        "id": "z_xb-MlJm25W",
        "outputId": "61965299-8b9a-4737-fd59-40c4500240d8",
        "colab": {
          "base_uri": "https://localhost:8080/",
          "height": 280
        }
      },
      "source": [
        "# Les entrées sur chaque dataset sur un graphique à barres\n",
        "lesdataset = pd.DataFrame({'cat': ['Movies', 'TV Shows'], 'val': [len(movie.show_id), len(tv_show.show_id)]})\n",
        "ax = sns.barplot(x='val', y='cat', data=lesdataset)\n",
        "ax.set(xlabel='Les entrées sur chaque dataset', ylabel='Les dataset')\n",
        "plt.show()\n",
        "\n",
        "# Les entrées sur chaque dataset sur un graphique en anneau\n",
        "# plt.pie(data['type'].value_count(), labels=['Movies', 'TV Shows'], explode = [0,0.1],startangle=90, labeldistance=1.2)\n",
        "# plt.title('Types de programme')\n",
        "# plt.legend()\n",
        "# plt.show()"
      ],
      "execution_count": 82,
      "outputs": [
        {
          "output_type": "display_data",
          "data": {
            "image/png": "[encoded data removed]",
            "text/plain": [
              "<Figure size 432x288 with 1 Axes>"
            ]
          },
          "metadata": {
            "tags": [],
            "needs_background": "light"
          }
        }
      ]
    },
    {
      "cell_type": "code",
      "metadata": {
        "id": "Zs7xnfOtXtSX"
      },
      "source": [
        "# Conversion de la colonne 'date_added' au format date\n",
        "movie['date_added'] = pd.to_datetime(movie['date_added'])\n",
        "tv_show['date_added'] = pd.to_datetime(tv_show['date_added'])\n"
      ],
      "execution_count": 83,
      "outputs": []
    },
    {
      "cell_type": "code",
      "metadata": {
        "id": "AW3u9J4IW6Ec",
        "outputId": "d9d30a31-c680-40fb-bae2-0035514d3b1c",
        "colab": {
          "base_uri": "https://localhost:8080/",
          "height": 502
        }
      },
      "source": [
        "# utilisation de Line plot\n",
        "fig, ax = plt.subplots(figsize=(20, 10))\n",
        "# utilisation de grille\n",
        "plt.grid()\n",
        "# Affichage du graphe pour le dataset Movie\n",
        "sns.lineplot(movie['date_added'], movie['release_year'])\n",
        "# Affichage du graphe pour le dataset TV Show\n",
        "sns.lineplot(tv_show['date_added'], tv_show['release_year'])\n",
        "\n",
        "ax.set_title('Année de sortie des films en fonction de la date d\\'ajout sur NETFLIX', fontsize = 20, loc='center',fontdict=dict(weight='bold'))\n",
        "ax.set_xlabel('Date d\\'ajout sur NETFLIX', fontsize = 10, fontdict=dict(weight='bold'))\n",
        "ax.set_ylabel('Année de sortie', fontsize = 10, fontdict=dict(weight='bold'))\n",
        "ax.legend(labels = [\"Movie\",\"TV Show\"], bbox_to_anchor=(1.1, 1.05))\n",
        "\n",
        "plt.tick_params(axis='y', which='major', labelsize=16)\n",
        "plt.tick_params(axis='x', which='major', labelsize=16)\n"
      ],
      "execution_count": 84,
      "outputs": [
        {
          "output_type": "stream",
          "text": [
            "/usr/local/lib/python3.6/dist-packages/seaborn/_decorators.py:43: FutureWarning: Pass the following variables as keyword args: x, y. From version 0.12, the only valid positional argument will be `data`, and passing other arguments without an explicit keyword will result in an error or misinterpretation.\n",
            "  FutureWarning\n",
            "/usr/local/lib/python3.6/dist-packages/seaborn/_decorators.py:43: FutureWarning: Pass the following variables as keyword args: x, y. From version 0.12, the only valid positional argument will be `data`, and passing other arguments without an explicit keyword will result in an error or misinterpretation.\n",
            "  FutureWarning\n"
          ],
          "name": "stderr"
        },
        {
          "output_type": "display_data",
          "data": {
            "image/png": "[encoded data removed]",
            "text/plain": [
              "<Figure size 1440x720 with 1 Axes>"
            ]
          },
          "metadata": {
            "tags": [],
            "needs_background": "light"
          }
        }
      ]
    },
    {
      "cell_type": "markdown",
      "metadata": {
        "id": "lK2gzFGHdFx8"
      },
      "source": [
        "Ce graphique représente les années de sortie de film en fonction de la d'ajout sur Netflix.\n",
        "\n",
        "On constate que Netflix s'est de plus en plus concentré sur les séries(émissions de télévision) et des films à partir de 2015.\n",
        "\n",
        "On aperçoit, une très grosse différence avant 2015. "
      ]
    },
    {
      "cell_type": "code",
      "metadata": {
        "id": "JdeN9m2F55mC",
        "outputId": "eabebb05-7694-4af9-95e5-096df1886e3e",
        "colab": {
          "base_uri": "https://localhost:8080/",
          "height": 294
        }
      },
      "source": [
        "# Fonction qui retourne les évolutions des ajouts des movies ou tv shows par année et par mois\n",
        "\n",
        "def boxPlot(ledataset, nomType):\n",
        "  variable = \"type\"\n",
        "\n",
        "  ledataset['Year'] = ledataset['date_added'].dt.year\n",
        "  ledataset['Month'] = ledataset['date_added'].dt.month\n",
        "\n",
        "  fig, ax = plt.subplots(nrows=1, ncols=2, figsize=(30, 6))\n",
        "\n",
        "  sns.boxplot(ledataset['Year'], ledataset[variable], ax=ax[0])\n",
        "  ax[0].set_title('L\\'évolution des ajouts des '+str(nomType)+' par année', fontsize = 20, loc='center', fontdict=dict(weight='bold'))\n",
        "  ax[0].set_xlabel('Année', fontsize = 16, fontdict=dict(weight='bold'))\n",
        "  ax[0].set_ylabel('dataset', fontsize = 16, fontdict=dict(weight='bold'))\n",
        "\n",
        "  sns.boxplot(ledataset['Month'], ledataset[variable], ax=ax[1])\n",
        "  ax[1].set_title('L\\'évolution des ajouts des '+str(nomType)+' par mois', fontsize = 20, loc='center', fontdict=dict(weight='bold'))\n",
        "  ax[1].set_xlabel('Mois', fontsize = 16, fontdict=dict(weight='bold'))\n",
        "  ax[1].set_ylabel('dataset', fontsize = 16, fontdict=dict(weight='bold'))\n",
        "\n",
        "boxPlot(tv_show,\"TV Show\")"
      ],
      "execution_count": 85,
      "outputs": [
        {
          "output_type": "stream",
          "text": [
            "/usr/local/lib/python3.6/dist-packages/seaborn/_decorators.py:43: FutureWarning: Pass the following variables as keyword args: x, y. From version 0.12, the only valid positional argument will be `data`, and passing other arguments without an explicit keyword will result in an error or misinterpretation.\n",
            "  FutureWarning\n",
            "/usr/local/lib/python3.6/dist-packages/seaborn/_decorators.py:43: FutureWarning: Pass the following variables as keyword args: x, y. From version 0.12, the only valid positional argument will be `data`, and passing other arguments without an explicit keyword will result in an error or misinterpretation.\n",
            "  FutureWarning\n"
          ],
          "name": "stderr"
        },
        {
          "output_type": "display_data",
          "data": {
            "image/png": "[encoded data removed]",
            "text/plain": [
              "<Figure size 2160x432 with 2 Axes>"
            ]
          },
          "metadata": {
            "tags": [],
            "needs_background": "light"
          }
        }
      ]
    },
    {
      "cell_type": "markdown",
      "metadata": {
        "id": "NwRn4L4IfbeW"
      },
      "source": [
        "Nous constatons qu'il manque 128 noms de **director** (Réalisateurs), 360 noms de **cast**, 195 noms de pays et une date d'ajout sur netflix. "
      ]
    },
    {
      "cell_type": "markdown",
      "metadata": {
        "id": "F_KQxqN8fsiD"
      },
      "source": [
        "## Analyse des données sur les différents pays\n",
        "Dans cette partie, nous allons analysé les données dans les différents pays.\n"
      ]
    },
    {
      "cell_type": "code",
      "metadata": {
        "id": "dLoP4-QQ8GgO",
        "outputId": "fc025e42-d2ef-4545-9672-f31e784228f9",
        "colab": {
          "base_uri": "https://localhost:8080/"
        }
      },
      "source": [
        "# On crée une copie de données\n",
        "pays = data[data['country'] != ''].copy()\n",
        "pays.info()"
      ],
      "execution_count": 88,
      "outputs": [
        {
          "output_type": "stream",
          "text": [
            "<class 'pandas.core.frame.DataFrame'>\n",
            "Int64Index: 6234 entries, 0 to 6233\n",
            "Data columns (total 12 columns):\n",
            " #   Column        Non-Null Count  Dtype \n",
            "---  ------        --------------  ----- \n",
            " 0   show_id       6234 non-null   int64 \n",
            " 1   type          6234 non-null   object\n",
            " 2   title         6234 non-null   object\n",
            " 3   director      4265 non-null   object\n",
            " 4   cast          5664 non-null   object\n",
            " 5   country       5758 non-null   object\n",
            " 6   date_added    6223 non-null   object\n",
            " 7   release_year  6234 non-null   int64 \n",
            " 8   rating        6224 non-null   object\n",
            " 9   duration      6234 non-null   object\n",
            " 10  listed_in     6234 non-null   object\n",
            " 11  description   6234 non-null   object\n",
            "dtypes: int64(2), object(10)\n",
            "memory usage: 633.1+ KB\n"
          ],
          "name": "stdout"
        }
      ]
    },
    {
      "cell_type": "code",
      "metadata": {
        "id": "EtgthIVvMV_-",
        "outputId": "043646a1-6684-4b72-e13c-5aab4027a1d3",
        "colab": {
          "base_uri": "https://localhost:8080/"
        }
      },
      "source": [
        "# On liste les valeurs possibles des types\n",
        "pays['country'].unique()"
      ],
      "execution_count": 89,
      "outputs": [
        {
          "output_type": "execute_result",
          "data": {
            "text/plain": [
              "array(['United States, India, South Korea, China', 'United Kingdom',\n",
              "       'United States', 'Spain', 'Bulgaria, United States, Spain, Canada',\n",
              "       'Chile', 'United States, United Kingdom, Denmark, Sweden', nan,\n",
              "       'Netherlands, Belgium, United Kingdom, United States',\n",
              "       'France, Belgium', 'United States, Uruguay', 'United States,',\n",
              "       'Thailand', 'China, Canada, United States',\n",
              "       'Belgium, United Kingdom, United States', 'Belgium, France',\n",
              "       'India', 'France', 'United States, Canada', 'Pakistan', 'Canada',\n",
              "       'United Kingdom, France', 'United States, United Kingdom',\n",
              "       'South Korea', 'Denmark, United States',\n",
              "       'United Kingdom, United States', 'Turkey, United States', 'Brazil',\n",
              "       'Denmark, France, Italy, Belgium, Netherlands', 'Indonesia',\n",
              "       'China', 'Ireland, United Kingdom', 'Turkey', 'Hong Kong',\n",
              "       'France, Morocco', 'Hong Kong, China', 'Mexico',\n",
              "       'United States, Mexico', 'Vietnam', 'France, Canada',\n",
              "       'Spain, Argentina', 'Nigeria', 'Japan',\n",
              "       'United Kingdom, Canada, United States',\n",
              "       'United Kingdom, France, Germany, Spain',\n",
              "       'United States, Greece, United Kingdom',\n",
              "       'Norway, United Kingdom, France, Ireland',\n",
              "       'France, Switzerland, Spain, United States, United Arab Emirates',\n",
              "       'Canada, United States', 'Canada, United States, United Kingdom',\n",
              "       'United States, United Kingdom, Canada, Japan',\n",
              "       'Japan, Canada, South Korea', 'Lebanon', 'Ireland',\n",
              "       'Cambodia, United States', 'Russia', 'United States, Denmark',\n",
              "       'Poland', 'Israel, United States', 'Italy', 'Netherlands',\n",
              "       'Brazil, United States', 'United States, France',\n",
              "       'Germany, United States, Canada', 'United States, Australia',\n",
              "       'Denmark, Brazil, France, Portugal, Sweden',\n",
              "       'France, United States', 'United Arab Emirates', 'Egypt', 'Taiwan',\n",
              "       'India, Germany, Austria', 'Australia', 'Czech Republic, France',\n",
              "       'United States, Senegal', 'Norway', 'Germany',\n",
              "       'India, Soviet Union', 'Argentina, Spain',\n",
              "       'United States, Hong Kong',\n",
              "       'United Kingdom, Italy, Israel, Peru, United States',\n",
              "       'Argentina, Uruguay, Spain, France',\n",
              "       'Germany, United States, Italy', 'Argentina',\n",
              "       'Pakistan, Norway, United States', 'Switzerland',\n",
              "       'United Kingdom, Ukraine, United States', 'Malaysia',\n",
              "       'Australia, United States', 'Ireland, South Africa',\n",
              "       'China, India, Nepal', 'Czech Republic, United States',\n",
              "       'United Kingdom, Hong Kong', 'United Kingdom, Canada, Italy',\n",
              "       'Spain, France', 'Philippines',\n",
              "       'United Kingdom, India, United States',\n",
              "       'France, Belgium, China, United States', 'Mexico, United States',\n",
              "       'United States, Indonesia', 'United Kingdom, Germany, Canada',\n",
              "       'Russia, Poland, Serbia', 'Serbia, United States',\n",
              "       'Spain, Portugal', 'Colombia', 'United States, Czech Republic',\n",
              "       'United States, United Kingdom, Germany', 'Singapore, Malaysia',\n",
              "       'Canada, Luxembourg', 'United States, Spain, Germany',\n",
              "       'Egypt, Austria, United States', 'Peru',\n",
              "       'United Kingdom, United States, Morocco',\n",
              "       'United States, Bulgaria', 'United Kingdom, West Germany',\n",
              "       'Belgium, Luxembourg, France', 'Mexico, Argentina',\n",
              "       'United Kingdom, Canada, United States, Cayman Islands',\n",
              "       'United States, United Kingdom, Morocco',\n",
              "       'Indonesia, United States', 'South Africa', 'United States, China',\n",
              "       'Netherlands, Denmark, South Africa',\n",
              "       'United Kingdom, Poland, United States', 'New Zealand',\n",
              "       'Venezuela', 'United States, Spain',\n",
              "       'Australia, United Arab Emirates', 'Australia, India',\n",
              "       'India, Malaysia',\n",
              "       'Canada, India, Thailand, United States, United Arab Emirates',\n",
              "       'Italy, France', 'Germany, Jordan, Netherlands',\n",
              "       'Turkey, France, Germany, Poland',\n",
              "       'United States, Israel, United Kingdom, Canada', 'Saudi Arabia',\n",
              "       'Egypt, France', 'Norway, Iceland, United States',\n",
              "       'Denmark, France, Poland', 'United States, Germany, Canada',\n",
              "       'United States, Germany', 'Poland,',\n",
              "       'United States, United Kingdom, Australia', 'Poland, West Germany',\n",
              "       'Germany, United States', 'United Kingdom, France, United States',\n",
              "       'United States, Malta, United Kingdom', 'United States, Sweden',\n",
              "       'India, United States', 'India, Australia',\n",
              "       'France, Canada, Belgium', 'United States, Italy',\n",
              "       'United States, Brazil', 'Canada, Ireland, United States',\n",
              "       'United States, France, Canada, Lebanon, Qatar',\n",
              "       'Switzerland, France', 'France, United Kingdom', 'Norway, Germany',\n",
              "       'United Kingdom, Canada, Japan', 'United States, Russia',\n",
              "       'Chile, United States, France', 'United States, Japan',\n",
              "       'Brazil, France', 'Iceland',\n",
              "       'United States, United Kingdom, Canada', 'Argentina, Chile',\n",
              "       'United Kingdom,', 'China, Hong Kong',\n",
              "       'South Africa, United States, New Zealand, Canada', 'Austria',\n",
              "       'Poland, United States', 'Ireland, Canada',\n",
              "       'Italy, Switzerland, France, Germany', 'Mexico, Netherlands',\n",
              "       'Peru, United States, United Kingdom', 'France, Senegal, Belgium',\n",
              "       'Germany, Canada, United States', 'Canada, Norway',\n",
              "       'China, Morocco, Hong Kong', 'Uruguay',\n",
              "       'United States, United Arab Emirates',\n",
              "       'Spain, Belgium, Switzerland, United States, China, United Kingdom',\n",
              "       'Singapore, United States',\n",
              "       'United Kingdom, Germany, Canada, United States',\n",
              "       'Australia, Canada', 'Australia, France',\n",
              "       'Germany, United Kingdom', 'Italy, United States',\n",
              "       'United States, New Zealand, United Kingdom',\n",
              "       'United Kingdom, Germany, United States',\n",
              "       'United States, Australia, Mexico',\n",
              "       'United States, South Korea, Japan', 'France, Iran, United States',\n",
              "       'United Kingdom, Australia, Canada, United States',\n",
              "       'France, Qatar', 'Finland, Germany, Belgium',\n",
              "       'United States, Spain, Chile, Peru',\n",
              "       'United Arab Emirates, United States, United Kingdom',\n",
              "       'United States, Ireland', 'Australia, Iraq',\n",
              "       'Argentina, United States, Mexico', 'Denmark',\n",
              "       'Germany, France, Russia',\n",
              "       'United States, Italy, United Kingdom, Liechtenstein',\n",
              "       'Hong Kong, United States', 'United States, United Kingdom, Italy',\n",
              "       'United States, France, Canada, Spain', 'Italy, Belgium, France',\n",
              "       'United States, United Kingdom, France', 'United Kingdom, India',\n",
              "       'New Zealand, United Kingdom, Australia',\n",
              "       'United Kingdom, China, United States', 'Pakistan, United States',\n",
              "       'Canada, India', 'India, Canada', 'Singapore',\n",
              "       'United States, Canada, United Kingdom', 'Mexico, France',\n",
              "       'United Kingdom, Belgium, Sweden', 'United States, India',\n",
              "       'Canada, Japan, United States',\n",
              "       'Italy, Switzerland, Albania, Poland', 'Colombia, United States',\n",
              "       'United Kingdom, Thailand', 'Belgium, Netherlands',\n",
              "       'United Kingdom, Israel, Russia', 'United Kingdom, South Africa',\n",
              "       'United States, South Korea, China', 'Cambodia', 'Denmark, Spain',\n",
              "       'Spain, Mexico, France', 'Argentina, Italy',\n",
              "       'United Kingdom, Pakistan',\n",
              "       'Denmark, France, United States, Sweden',\n",
              "       'Colombia, Mexico, United States', 'Czech Republic, Slovakia',\n",
              "       'Chile, Argentina', 'India, Germany, France',\n",
              "       'Spain, France, Uruguay', 'South Korea, Czech Republic',\n",
              "       'Italy, United States, Argentina', 'United States, South Africa',\n",
              "       'Singapore, France',\n",
              "       'United States, Australia, Samoa, United Kingdom',\n",
              "       'Spain, Switzerland', 'United Arab Emirates, Jordan',\n",
              "       'United Kingdom, Canada, France, United States',\n",
              "       'United States, Chile', 'Bulgaria, United States',\n",
              "       'Norway, Germany, Sweden', 'India, Japan',\n",
              "       'Austria, United States', 'Ghana, United States',\n",
              "       'United Kingdom, Spain, United States, Germany',\n",
              "       'United States, Cambodia', 'Mexico, Finland',\n",
              "       'Canada, United States, India, United Kingdom',\n",
              "       'Philippines, Qatar', 'Netherlands, Belgium, Germany, Jordan',\n",
              "       'Venezuela, Colombia',\n",
              "       'Brazil, Netherlands, United States, Colombia, Austria, Germany',\n",
              "       'Austria, Iraq, United States',\n",
              "       'Denmark, United Kingdom, South Africa, Sweden, Belgium',\n",
              "       'United States, Botswana', 'Iran, France',\n",
              "       'United Arab Emirates, United States', 'Belgium',\n",
              "       'United Kingdom, Japan, United States',\n",
              "       'United Arab Emirates, United Kingdom, India',\n",
              "       'United States, Taiwan',\n",
              "       'United Kingdom, United States, Czech Republic', 'Sweden',\n",
              "       'Hungary', 'India, France', 'India, Germany', 'Guatemala',\n",
              "       'Portugal, Spain', 'Taiwan, Hong Kong, United States, China',\n",
              "       'United Kingdom, Malawi', 'Paraguay, Argentina',\n",
              "       'Somalia, Kenya, Sudan, South Africa, United States',\n",
              "       'Germany, Sri Lanka', 'Ukraine', 'Uruguay, Spain, Mexico',\n",
              "       'France, Luxembourg, Canada', 'Spain, France, Italy',\n",
              "       'France, China, Japan, United States',\n",
              "       'United Kingdom, France, Canada, Belgium, United States',\n",
              "       'Colombia, Mexico', 'Dominican Republic',\n",
              "       'South Korea, United States', 'Israel',\n",
              "       'Chile, Argentina, France, Spain, United States', 'Russia, Spain',\n",
              "       'Netherlands, United States', 'Thailand, China, United States',\n",
              "       'United States, Canada, Ireland', 'United States, Iceland',\n",
              "       'Argentina, United States',\n",
              "       'United States, France, United Kingdom, Japan',\n",
              "       'United Kingdom, United States, Australia',\n",
              "       'Germany, United States, Sweden',\n",
              "       'United States, Canada, Japan, Panama', 'Sweden, United States',\n",
              "       'Chile, Peru', 'Israel, Sweden, Germany, Netherlands',\n",
              "       'Lebanon, Jordan', 'Romania',\n",
              "       'Denmark, Sweden, Israel, United States',\n",
              "       'Switzerland, United States',\n",
              "       'Finland, Sweden, Norway, Latvia, Germany',\n",
              "       'France, United Kingdom, India', 'Italy, France, Switzerland',\n",
              "       'France, Luxembourg, United States', 'India, United Kingdom',\n",
              "       'China, Hong Kong, United States', 'Singapore, Japan, France',\n",
              "       'United Kingdom, Poland', 'Philippines, Singapore',\n",
              "       'United States, China, Hong Kong',\n",
              "       'Canada, Mexico, Germany, South Africa',\n",
              "       'United Kingdom, New Zealand',\n",
              "       'United States, Brazil, India, Uganda, China',\n",
              "       'United Kingdom, Germany', 'China, United States, United Kingdom',\n",
              "       'Slovenia, Croatia, Germany, Czech Republic, Qatar',\n",
              "       'Germany, Australia', 'China, United States, Australia',\n",
              "       'Russia, United States',\n",
              "       'Ireland, Canada, United Kingdom, United States',\n",
              "       'Australia, United Kingdom, Canada', 'Canada, Spain, France',\n",
              "       'United Kingdom, Denmark, Canada, Croatia',\n",
              "       'Argentina, France, Germany',\n",
              "       'Switzerland, United Kingdom, United States',\n",
              "       'Argentina, Chile, Peru',\n",
              "       'Germany, France, Luxembourg, United Kingdom, United States',\n",
              "       'Taiwan, China, France, United States', 'Germany, Italy',\n",
              "       'Denmark, United Kingdom',\n",
              "       'Germany, United Kingdom, United States',\n",
              "       'United States, Czech Republic, United Kingdom',\n",
              "       'Hong Kong, Taiwan', 'Croatia, Slovenia, Serbia, Montenegro',\n",
              "       'United States, France, Italy, United Kingdom', 'Bangladesh',\n",
              "       'India, Nepal', 'United Kingdom, Jordan, Qatar, Iran',\n",
              "       'Norway, Denmark, Sweden', 'Iceland, Sweden, Belgium',\n",
              "       'United States, India, United Arab Emirates', 'India, Pakistan',\n",
              "       'Switzerland, Vatican City, Italy, Germany, France',\n",
              "       'Indonesia, Singapore',\n",
              "       'United Kingdom, United States, Spain, Germany, Greece, Canada',\n",
              "       'Spain, Belgium', 'Spain, United Kingdom, United States',\n",
              "       'United States, United Kingdom, France, Germany, Japan',\n",
              "       'United Kingdom, Egypt, United States',\n",
              "       'United States, India, Malaysia, Taiwan, Canada, United Kingdom',\n",
              "       'United Kingdom, Spain, Belgium',\n",
              "       'Germany, United States, United Kingdom, Canada',\n",
              "       'Soviet Union, India',\n",
              "       'Ireland, United Kingdom, Italy, United States',\n",
              "       'Austria, Czech Republic', 'United Kingdom, Ireland',\n",
              "       'United States, Greece, Brazil', 'Lebanon, Qatar',\n",
              "       'Italy, South Africa, West Germany, Australia, United States',\n",
              "       'United Kingdom, United States, Dominican Republic',\n",
              "       'Brazil, India, China, United States',\n",
              "       'Indonesia, South Korea, Singapore',\n",
              "       'United States, Canada, France', 'Brazil, France, Germany',\n",
              "       'United States, France, Mexico', 'United States, South Korea',\n",
              "       'United States, Canada, Germany', 'Mexico, Spain',\n",
              "       'Germany, France, United States, Canada, United Kingdom',\n",
              "       'Australia, United Kingdom',\n",
              "       'United States, Germany, United Kingdom',\n",
              "       'United States, Germany, United Kingdom, Italy',\n",
              "       'New Zealand, United States', 'United States, Germany, Mexico',\n",
              "       'South Africa, United States',\n",
              "       'United States, East Germany, West Germany',\n",
              "       'France, United States, Mexico', 'United Kingdom, Brazil, Germany',\n",
              "       'United States, India, Bangladesh', 'Germany, Belgium',\n",
              "       'Canada, France, Italy, Morocco, United States',\n",
              "       'Denmark, Germany, Belgium, United Kingdom, France',\n",
              "       'Belgium, Ireland, Netherlands, Germany, Afghanistan',\n",
              "       'United States, Venezuela', 'Canada, United Kingdom, Netherlands',\n",
              "       'United States, France, Japan', 'United States, New Zealand',\n",
              "       'United States, New Zealand, Japan',\n",
              "       'United States, Netherlands, Japan, France',\n",
              "       'France, United States, Canada', 'United Kingdom, Canada',\n",
              "       'Georgia', 'New Zealand, United Kingdom', 'Italy, India',\n",
              "       'Belgium, India, Australia',\n",
              "       'United States, Canada, Belgium, United Kingdom',\n",
              "       'United States, Spain, Italy', 'Serbia, South Korea, Slovenia',\n",
              "       'France, Netherlands, South Africa, Finland',\n",
              "       'China, United States',\n",
              "       'Denmark, Indonesia, Finland, Norway, United Kingdom, Israel, France, United States, Germany, Netherlands',\n",
              "       'Netherlands, Denmark, France, Germany',\n",
              "       'Ireland, Canada, Luxembourg, United States',\n",
              "       'Spain, Italy, Argentina',\n",
              "       'United States, Israel, Italy, South Africa',\n",
              "       'United Kingdom, United States, Russia',\n",
              "       'United Kingdom, France, Germany',\n",
              "       'Czech Republic, United Kingdom, France',\n",
              "       'Chile, Spain, Argentina, Germany',\n",
              "       'Australia, United Kingdom, United States, New Zealand, Italy, France',\n",
              "       'United Kingdom, Namibia, South Africa, Zimbabwe, United States',\n",
              "       'France, Germany, Switzerland', 'West Germany',\n",
              "       'United Kingdom, United States, France, Germany', 'Denmark, China',\n",
              "       'France, Germany, Czech Republic, Belgium',\n",
              "       'South Africa, Germany, Netherlands, France',\n",
              "       'China, South Korea, United States', 'Spain, Cuba',\n",
              "       'United States, Hungary', 'France, Germany', 'Israel, Germany',\n",
              "       'South Korea, Canada, United States, China',\n",
              "       'Italy, Canada, France', 'Thailand, United States',\n",
              "       'Japan, United States', 'Uruguay, Argentina, Spain',\n",
              "       'Sweden, Netherlands', 'Argentina, Uruguay, Serbia',\n",
              "       'France, Poland', 'Turkey, Azerbaijan', 'France, Japan',\n",
              "       'Australia, United Kingdom, United Arab Emirates, Canada',\n",
              "       'Ireland, United Kingdom, United States',\n",
              "       'Mauritius, South Africa',\n",
              "       'United Kingdom, Italy, Argentina, United States',\n",
              "       'France, South Korea, Japan', 'Australia, France, Ireland',\n",
              "       'Ireland, United Kingdom, Greece, France, Netherlands',\n",
              "       'Canada, Germany, South Africa', 'Thailand, Canada, United States',\n",
              "       'United Kingdom, United States, Germany, Denmark, Belgium, Japan',\n",
              "       'Canada, Germany, France, United States', 'Ghana',\n",
              "       'United States, Nicaragua', 'South Korea, China, United States',\n",
              "       'Israel, Germany, France', 'Brazil, Canada',\n",
              "       'Canada, France, United States', 'Canada, Japan, Netherlands',\n",
              "       'United Kingdom, India, Sweden',\n",
              "       'India, United Kingdom, Canada, United States',\n",
              "       'Sweden, United Kingdom, Finland', 'Romania, Bulgaria, Hungary',\n",
              "       'Norway, Denmark, Netherlands, Sweden',\n",
              "       'Hong Kong, China, United States', 'Canada, France',\n",
              "       'India, Mexico', 'Georgia, Germany, France', 'India, Switzerland',\n",
              "       'United Arab Emirates, Romania', 'United States, Kazakhstan',\n",
              "       'Malaysia, Singapore, Hong Kong', 'France, China, Canada',\n",
              "       'China, Japan', 'United Kingdom, France, Belgium, United States',\n",
              "       'China, United Kingdom', 'Spain, Germany', 'Canada, Spain',\n",
              "       'France, Belgium, Spain',\n",
              "       'Denmark, Germany, Belgium, United Kingdom, France, Sweden',\n",
              "       'China, Taiwan',\n",
              "       'Israel, Germany, Poland, Luxembourg, Belgium, France, United States',\n",
              "       'Finland, Germany', 'India, Turkey',\n",
              "       'United Kingdom, France, Belgium', 'Spain, Mexico',\n",
              "       'Australia, Armenia, Japan, Jordan, Mexico, Mongolia, New Zealand, Philippines, South Africa, Sweden, United States, Uruguay',\n",
              "       'United States, Argentina', 'United States, Bermuda, Ecuador',\n",
              "       'India, Iran', 'United Kingdom, South Korea',\n",
              "       'United States, Germany, Australia', 'Argentina, France',\n",
              "       'Germany, United States, Hong Kong, Singapore', 'Chile, France',\n",
              "       'South Africa, China, United States', 'Netherlands, Belgium',\n",
              "       'United States, Morocco', 'Spain, Colombia',\n",
              "       'United Kingdom, South Africa, Australia, United States',\n",
              "       'Bulgaria', 'Turkey, India', 'Italy, Turkey',\n",
              "       'Saudi Arabia, Syria, Egypt, Lebanon, Kuwait',\n",
              "       'Hong Kong, China, Singapore',\n",
              "       'Canada, United Kingdom, United States',\n",
              "       'United States, Australia, China', 'Australia, New Zealand',\n",
              "       'United Kingdom, Norway, Denmark, Germany, Sweden',\n",
              "       'South Africa, United States, Germany', 'Denmark, Zimbabwe',\n",
              "       'United States, Australia, South Africa, United Kingdom',\n",
              "       'China, Germany, India, United States',\n",
              "       'United Kingdom, United States, Greece, Italy, Germany',\n",
              "       'Portugal, France, Poland, United States',\n",
              "       'United Kingdom, China, Canada, Indonesia, Singapore, United States',\n",
              "       'United Kingdom, Singapore', 'France, Netherlands, Singapore',\n",
              "       'Ireland, United States, France', 'Pakistan, United Arab Emirates',\n",
              "       'Argentina, Brazil, France, Poland, Germany, Denmark',\n",
              "       'United States, United Kingdom, Spain, South Korea',\n",
              "       'United Kingdom, Italy, France, United States',\n",
              "       'United Kingdom, Russia',\n",
              "       'United States, France, South Korea, Indonesia',\n",
              "       'United States, Colombia, Mexico',\n",
              "       'United States, Ireland, United Kingdom',\n",
              "       'Australia, New Zealand, United States',\n",
              "       'France, United Kingdom, United States',\n",
              "       'United States, France, Canada', 'Canada, United Kingdom',\n",
              "       'United States, Spain, Colombia, Mexico', 'Norway, United States',\n",
              "       'Canada, Australia', 'United States, Mexico, Spain, Malta',\n",
              "       'United States, Japan, Canada', 'Canada, Brazil',\n",
              "       'Canada, United States, France', 'South Korea, France',\n",
              "       'Japan, Canada', 'Finland',\n",
              "       'Ireland, Canada, United States, United Kingdom',\n",
              "       'Italy, United Kingdom, France', 'United States, Colombia',\n",
              "       'Spain, United Kingdom', 'Netherlands, Germany, Italy, Canada',\n",
              "       'Croatia', 'Finland, France',\n",
              "       'Denmark, Singapore, Canada, United States',\n",
              "       'United States, Hungary, Ireland, Canada', 'Norway, Sweden',\n",
              "       'United States, Mexico, Colombia',\n",
              "       'United States, Brazil, South Korea, Mexico, Japan, Germany',\n",
              "       'Italy, Germany', 'Cyprus, Austria, Thailand'], dtype=object)"
            ]
          },
          "metadata": {
            "tags": []
          },
          "execution_count": 89
        }
      ]
    },
    {
      "cell_type": "code",
      "metadata": {
        "id": "GYPix0BGCkpi",
        "outputId": "14721e7d-accc-43a9-dfc1-07e8a25a1a50",
        "colab": {
          "base_uri": "https://localhost:8080/",
          "height": 212
        }
      },
      "source": [
        "# Les Top 10 des pays qui ont le plus de programme Netflix\n",
        "plt.figure(figsize=(30,6))\n",
        "data['country'].value_counts()[:10].plot(kind=\"barh\", color=\"orange\")\n",
        "plt.title('Les Top 10 des pays qui ont le plus de programme Netflix', size=20)"
      ],
      "execution_count": 90,
      "outputs": [
        {
          "output_type": "execute_result",
          "data": {
            "text/plain": [
              "Text(0.5, 1.0, 'Les Top 10 des pays qui ont le plus de programme Netflix')"
            ]
          },
          "metadata": {
            "tags": []
          },
          "execution_count": 90
        },
        {
          "output_type": "display_data",
          "data": {
            "image/png": "[encoded data removed]",
            "text/plain": [
              "<Figure size 2160x432 with 1 Axes>"
            ]
          },
          "metadata": {
            "tags": [],
            "needs_background": "light"
          }
        }
      ]
    },
    {
      "cell_type": "code",
      "metadata": {
        "id": "vSZ_vsPPF2mR",
        "outputId": "eb23f8c6-a67a-4b2c-ae37-1c84780d7b35",
        "colab": {
          "base_uri": "https://localhost:8080/",
          "height": 195
        }
      },
      "source": [
        "# Les Top 10 des pays qui ont le plus de programme Movie ou TV Netflix\n",
        "def top10MovieorTvshow(ledata, nomType):\n",
        "  plt.figure(figsize=(30,6))\n",
        "  ledata['country'].value_counts()[:10].plot(kind=\"barh\", color=\"pink\")\n",
        "  plt.title('Les Top 10 des pays qui ont le plus de programme '+str(nomType)+' Netflix', size=20)\n",
        "top10MovieorTvshow(movie, \"Movie\")"
      ],
      "execution_count": 92,
      "outputs": [
        {
          "output_type": "display_data",
          "data": {
            "image/png": "[encoded data removed]",
            "text/plain": [
              "<Figure size 2160x432 with 1 Axes>"
            ]
          },
          "metadata": {
            "tags": [],
            "needs_background": "light"
          }
        }
      ]
    }
  ]
}