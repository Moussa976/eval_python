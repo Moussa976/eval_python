{
  "nbformat": 4,
  "nbformat_minor": 0,
  "metadata": {
    "colab": {
      "name": "M1-TL_Moussa_INSSA.ipynb",
      "provenance": [],
      "collapsed_sections": [],
      "authorship_tag": "ABX9TyMrP+ZXfNu/ZL60yoKWeagu",
      "include_colab_link": true
    },
    "kernelspec": {
      "name": "python3",
      "display_name": "Python 3"
    }
  },
  "cells": [
    {
      "cell_type": "markdown",
      "metadata": {
        "id": "view-in-github",
        "colab_type": "text"
      },
      "source": [
        "<a href=\"https://colab.research.google.com/github/Moussa976/eval_python/blob/master/M1_TL_Moussa_INSSA.ipynb\" target=\"_parent\"><img src=\"https://colab.research.google.com/assets/colab-badge.svg\" alt=\"Open In Colab\"/></a>"
      ]
    },
    {
      "cell_type": "markdown",
      "metadata": {
        "id": "2DI_8irdje8E"
      },
      "source": [
        "\n",
        "\n",
        "> Moussa INSSA - M1 Tech Lead\n",
        "\n",
        "\n",
        "\n",
        "\n",
        "# EVALUATION PYTHON"
      ]
    },
    {
      "cell_type": "markdown",
      "metadata": {
        "id": "C4Wq8nX6ofg7"
      },
      "source": [
        "## Problème 1 : Carré"
      ]
    },
    {
      "cell_type": "code",
      "metadata": {
        "id": "SOJQ1WFLjePe"
      },
      "source": [
        "def carre():\n",
        "  x = int(input('Entrer un nombre : '))\n",
        "  carr = x**2\n",
        "  print(\"le carré de \", x, \" est \",carr)\n",
        "carre()"
      ],
      "execution_count": null,
      "outputs": []
    },
    {
      "cell_type": "markdown",
      "metadata": {
        "id": "8zFqntsbq8zu"
      },
      "source": [
        "## Problème 2 : Produit"
      ]
    },
    {
      "cell_type": "code",
      "metadata": {
        "id": "RDbHI6T7q5ha",
        "outputId": "bf844a87-9949-45cc-b304-0fd4a622e7b6",
        "colab": {
          "base_uri": "https://localhost:8080/"
        }
      },
      "source": [
        "def produit(n1, n2):\n",
        "  if(n1 == 0 or n2 == 0):\n",
        "    print(\"Le produit est nul\")\n",
        "  elif((n1<0 and n2<0) or (n1>0 and n2>0)):\n",
        "    print(\"Le produit est positif\")\n",
        "  else:\n",
        "    print(\"Le produit est négatif\")\n",
        "  \n",
        "  \n",
        "produit(2,4)"
      ],
      "execution_count": 25,
      "outputs": [
        {
          "output_type": "stream",
          "text": [
            "Le produit est positif\n"
          ],
          "name": "stdout"
        }
      ]
    },
    {
      "cell_type": "markdown",
      "metadata": {
        "id": "fLgtc5X_s9G5"
      },
      "source": [
        "##Problème 3 : Somme"
      ]
    },
    {
      "cell_type": "code",
      "metadata": {
        "id": "QfuWgO9Mtlml"
      },
      "source": [
        "def somme(k):\n",
        "  LasommeDu_n = 0;\n",
        "  i=0;\n",
        "  for i in range(1,k+1):\n",
        "    LasommeDu_n = LasommeDu_n + i;\n",
        "  print(LasommeDu_n)\n",
        "somme(2)"
      ],
      "execution_count": null,
      "outputs": []
    },
    {
      "cell_type": "markdown",
      "metadata": {
        "id": "SlOpBRTnuhlQ"
      },
      "source": [
        "##Problème 4 : FacProduit"
      ]
    },
    {
      "cell_type": "code",
      "metadata": {
        "id": "rjTdnvFmuguQ"
      },
      "source": [
        ""
      ],
      "execution_count": null,
      "outputs": []
    },
    {
      "cell_type": "markdown",
      "metadata": {
        "id": "GjChV5OJuiP_"
      },
      "source": [
        "## Problème 5 : Minimum"
      ]
    },
    {
      "cell_type": "code",
      "metadata": {
        "id": "LoN256BRuikF"
      },
      "source": [
        "liste = [6,5,3,-2,4,98, -5,9,7]\n",
        "Minliste= liste[0]\n",
        "for valMin in liste:\n",
        "    if valMin < Minliste : \n",
        "        Minliste = valMin\n",
        "\n",
        "print(Minliste)"
      ],
      "execution_count": null,
      "outputs": []
    },
    {
      "cell_type": "markdown",
      "metadata": {
        "id": "4CR7KnZhwGvH"
      },
      "source": [
        "## Problème 6 : Tri"
      ]
    },
    {
      "cell_type": "code",
      "metadata": {
        "id": "K4EK6sB2wKxV"
      },
      "source": [
        ""
      ],
      "execution_count": null,
      "outputs": []
    },
    {
      "cell_type": "markdown",
      "metadata": {
        "id": "I2giRPurx9Hs"
      },
      "source": [
        "## Problème 9 : Multiplication matricielle"
      ]
    },
    {
      "cell_type": "code",
      "metadata": {
        "id": "hOlXFdxsyLVu"
      },
      "source": [
        "import numpy as np"
      ],
      "execution_count": null,
      "outputs": []
    },
    {
      "cell_type": "code",
      "metadata": {
        "id": "ZsedkMm2x9i5"
      },
      "source": [
        "a = np.array([[1, 2],\n",
        "                  [3, 4]])\n",
        "b = np.array([[1, 2],\n",
        "                  [3, 4]])\n",
        "a*b\n"
      ],
      "execution_count": null,
      "outputs": []
    }
  ]
}